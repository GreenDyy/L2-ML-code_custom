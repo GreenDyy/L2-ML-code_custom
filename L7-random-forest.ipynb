{
 "cells": [
  {
   "cell_type": "markdown",
   "metadata": {
    "button": false,
    "new_sheet": false,
    "run_control": {
     "read_only": false
    }
   },
   "source": [
    "<!-- <a href=\"https://www.bigdatauniversity.com\"><img src=\"https://ibm.box.com/shared/static/cw2c7r3o20w9zn8gkecaeyjhgw3xdgbj.png\" width=\"400\" align=\"center\"></a>\n",
    " -->\n",
    " \n",
    "<!-- # Released under  -->\n",
    "\n",
    "Copyright (c) 2013 Mark Otto. Copyright (c) 2017 Andrew Fong. MIT License\n",
    "\n",
    "====== Nguồn http://users.soict.hust.edu.vn/khoattq/ml-dm-course/ ======\n",
    "\n",
    "\n",
    "\n",
    "\n",
    "<h1><center>Xây dựng mô hình Random Forest cho bài toán phân loại</center></h1>"
   ]
  },
  {
   "cell_type": "markdown",
   "metadata": {
    "button": false,
    "collapsed": true,
    "jupyter": {
     "outputs_hidden": true
    },
    "new_sheet": false,
    "run_control": {
     "read_only": false
    }
   },
   "source": [
    " - Trong bài thực hành này, chúng ta sử dụng mô hình Random Forest để phân loại bệnh nhân vào các loại thuốc khác nhau. Mô hình sau khi huấn luyện được sử dụng để dự đoán nhãn cho bệnh nhân mới từ đó có thể tìm được thuốc thích hợp\n",
    "<!-- In this lab exercise, you will learn a popular machine learning algorithm, Decision Tree. You will use this classification algorithm to build a model from historical data of patients, and their response to different medications. Then you use the trained decision tree to predict the class of a unknown patient, or to find a proper drug for a new patient. -->"
   ]
  },
  {
   "cell_type": "markdown",
   "metadata": {},
   "source": [
    "<h1>Nội dung thực hành</h1>\n",
    "\n",
    "<div class=\"alert alert-block alert-info\" style=\"margin-top: 20px\">\n",
    "    <ol>\n",
    "        <li><a href=\"#about_dataset\">Giới thiệu về dữ liệu</a></li>\n",
    "        <li><a href=\"#downloading_data\">Tải dữ liệu</a></li>\n",
    "        <li><a href=\"#pre-processing\">Tiền xử lý dữ liệu</a></li>\n",
    "        <li><a href=\"#setting_up_tree\">Cài đặt mô hình Random Forest</a></li>\n",
    "        <li><a href=\"#modeling\">Huấn luyện</a></li>\n",
    "        <li><a href=\"#prediction\">Dự đoán</a></li>\n",
    "        <li><a href=\"#evaluation\">Đánh giá mô hình</a></li>\n",
    "        <li><a href=\"#evaluation\">Đánh giá ảnh hưởng của các thuộc tính với nhãn</a></li>\n",
    "    </ol>\n",
    "</div>\n",
    "<br>\n",
    "<hr>"
   ]
  },
  {
   "cell_type": "markdown",
   "metadata": {
    "button": false,
    "new_sheet": false,
    "run_control": {
     "read_only": false
    }
   },
   "source": [
    "Import các thư viện sau:\n",
    "<ul>\n",
    "    <li> <b>numpy (as np)</b> </li>\n",
    "    <li> <b>pandas</b> </li>\n",
    "    <li> <b>RandomForestClassifier</b> from <b>sklearn.ensemble</b> </li>\n",
    "</ul>"
   ]
  },
  {
   "cell_type": "code",
   "execution_count": 2,
   "metadata": {
    "button": false,
    "new_sheet": false,
    "run_control": {
     "read_only": false
    }
   },
   "outputs": [],
   "source": [
    "import numpy as np\n",
    "import pandas as pd\n",
    "from sklearn.ensemble import RandomForestClassifier"
   ]
  },
  {
   "cell_type": "markdown",
   "metadata": {
    "button": false,
    "new_sheet": false,
    "run_control": {
     "read_only": false
    }
   },
   "source": [
    "<div id=\"Giới thiệu về dữ liệu\">\n",
    "    <h2>Giới thiệu về dữ liệu</h2>\n",
    "    Giả sử bạn là một người nghiên cứu về dữ liệu y học, bạn đã thu thập được một tập dữ liệu các bệnh nhân của cùng một loại bệnh, trong khi điều trị mỗi bệnh nhân phản ứng với 1 trong 5 loại thuốc A, B, c, x và y.\n",
    "    <br>\n",
    "    <br>\n",
    "    Công việc cần làm là xây dựng một mô hình nhằm tìm ra loại thuốc phù hợp cho bênh nhân mới bị mắc loại bênh trên. Các trường dữ liệu gồm gồm có: Age, Sex, Blood Pressur, Cholesterol, Na_to_K, Drug\n",
    "    <br>\n",
    "    <br>\n",
    "    Chúng ta sử dụng phần dữ liệu huấn luyện để xây dựng mô hình Random Forest và đánh giá mô hình này trên tập đánh giá, sau đó sử dụng mô hình để suy diễn trên bệnh nhân mới\n",
    "</div>\n"
   ]
  },
  {
   "cell_type": "markdown",
   "metadata": {
    "button": false,
    "new_sheet": false,
    "run_control": {
     "read_only": false
    }
   },
   "source": [
    "<div id=\"downloading_data\"> \n",
    "    <h2>Load dữ liệu từ file</h2>\n",
    "<!--     Sử dụng wget để tải dữ liệu từ IBM Object Storage. -->\n",
    "</div>"
   ]
  },
  {
   "cell_type": "markdown",
   "metadata": {},
   "source": [
    "Đọc dữ liệu vào pandas dataframe"
   ]
  },
  {
   "cell_type": "code",
   "execution_count": 3,
   "metadata": {
    "button": false,
    "new_sheet": false,
    "run_control": {
     "read_only": false
    }
   },
   "outputs": [
    {
     "data": {
      "text/html": [
       "<div>\n",
       "<style scoped>\n",
       "    .dataframe tbody tr th:only-of-type {\n",
       "        vertical-align: middle;\n",
       "    }\n",
       "\n",
       "    .dataframe tbody tr th {\n",
       "        vertical-align: top;\n",
       "    }\n",
       "\n",
       "    .dataframe thead th {\n",
       "        text-align: right;\n",
       "    }\n",
       "</style>\n",
       "<table border=\"1\" class=\"dataframe\">\n",
       "  <thead>\n",
       "    <tr style=\"text-align: right;\">\n",
       "      <th></th>\n",
       "      <th>Age</th>\n",
       "      <th>Sex</th>\n",
       "      <th>BP</th>\n",
       "      <th>Cholesterol</th>\n",
       "      <th>Na_to_K</th>\n",
       "      <th>Drug</th>\n",
       "    </tr>\n",
       "  </thead>\n",
       "  <tbody>\n",
       "    <tr>\n",
       "      <th>0</th>\n",
       "      <td>23</td>\n",
       "      <td>F</td>\n",
       "      <td>HIGH</td>\n",
       "      <td>HIGH</td>\n",
       "      <td>25.355</td>\n",
       "      <td>drugY</td>\n",
       "    </tr>\n",
       "    <tr>\n",
       "      <th>1</th>\n",
       "      <td>47</td>\n",
       "      <td>M</td>\n",
       "      <td>LOW</td>\n",
       "      <td>HIGH</td>\n",
       "      <td>13.093</td>\n",
       "      <td>drugC</td>\n",
       "    </tr>\n",
       "    <tr>\n",
       "      <th>2</th>\n",
       "      <td>47</td>\n",
       "      <td>M</td>\n",
       "      <td>LOW</td>\n",
       "      <td>HIGH</td>\n",
       "      <td>10.114</td>\n",
       "      <td>drugC</td>\n",
       "    </tr>\n",
       "    <tr>\n",
       "      <th>3</th>\n",
       "      <td>28</td>\n",
       "      <td>F</td>\n",
       "      <td>NORMAL</td>\n",
       "      <td>HIGH</td>\n",
       "      <td>7.798</td>\n",
       "      <td>drugX</td>\n",
       "    </tr>\n",
       "    <tr>\n",
       "      <th>4</th>\n",
       "      <td>61</td>\n",
       "      <td>F</td>\n",
       "      <td>LOW</td>\n",
       "      <td>HIGH</td>\n",
       "      <td>18.043</td>\n",
       "      <td>drugY</td>\n",
       "    </tr>\n",
       "  </tbody>\n",
       "</table>\n",
       "</div>"
      ],
      "text/plain": [
       "   Age Sex      BP Cholesterol  Na_to_K   Drug\n",
       "0   23   F    HIGH        HIGH   25.355  drugY\n",
       "1   47   M     LOW        HIGH   13.093  drugC\n",
       "2   47   M     LOW        HIGH   10.114  drugC\n",
       "3   28   F  NORMAL        HIGH    7.798  drugX\n",
       "4   61   F     LOW        HIGH   18.043  drugY"
      ]
     },
     "execution_count": 3,
     "metadata": {},
     "output_type": "execute_result"
    }
   ],
   "source": [
    "my_data = pd.read_csv(\"data/drug200.csv\", delimiter=\",\")\n",
    "my_data[0:5]"
   ]
  },
  {
   "cell_type": "markdown",
   "metadata": {},
   "source": [
    "Kích thước của dữ liệu"
   ]
  },
  {
   "cell_type": "code",
   "execution_count": 4,
   "metadata": {},
   "outputs": [
    {
     "data": {
      "text/plain": [
       "(200, 6)"
      ]
     },
     "execution_count": 4,
     "metadata": {},
     "output_type": "execute_result"
    }
   ],
   "source": [
    "my_data.shape"
   ]
  },
  {
   "cell_type": "markdown",
   "metadata": {},
   "source": [
    "<div href=\"pre-processing\">\n",
    "    <h2>Tiền xử lý dữ liệu</h2>\n",
    "</div>"
   ]
  },
  {
   "cell_type": "markdown",
   "metadata": {
    "button": false,
    "new_sheet": false,
    "run_control": {
     "read_only": false
    }
   },
   "source": [
    "<b>my_data</b> là  Drug.csv sau khi đọc vào pandas dataframe, chúng ta định nghĩa các tham số sau: <br>\n",
    "\n",
    "<ul>\n",
    "    <li> <b> X </b> as the <b> Ma trận thuộc tính </b> (data of my_data) \n",
    "    <li> <b> y </b> as the <b> Vector thuốc phản hồi (target) </b> </li>\n",
    "</ul>"
   ]
  },
  {
   "cell_type": "code",
   "execution_count": 6,
   "metadata": {},
   "outputs": [
    {
     "data": {
      "text/plain": [
       "array([[23, 'F', 'HIGH', 'HIGH', 25.355],\n",
       "       [47, 'M', 'LOW', 'HIGH', 13.093],\n",
       "       [47, 'M', 'LOW', 'HIGH', 10.114],\n",
       "       [28, 'F', 'NORMAL', 'HIGH', 7.798],\n",
       "       [61, 'F', 'LOW', 'HIGH', 18.043]], dtype=object)"
      ]
     },
     "execution_count": 6,
     "metadata": {},
     "output_type": "execute_result"
    }
   ],
   "source": [
    "X = my_data[['Age', 'Sex', 'BP', 'Cholesterol', 'Na_to_K']].values\n",
    "X[0:5]"
   ]
  },
  {
   "cell_type": "markdown",
   "metadata": {},
   "source": [
    "Một vài trường trong dữ liệu có dạng categorical như __Sex__ hoặc __BP__. Mô hình Random Forest trong thư viện chỉ xử lý với dữ liệu số thực do đó chúng ta cần chuyển các thuộc tính trên về dạng số thực tương ứng. Sử dụng  __skearn.preprocessing__ để chuyển dữ liệu dạng categorical về số thực"
   ]
  },
  {
   "cell_type": "code",
   "execution_count": 7,
   "metadata": {},
   "outputs": [
    {
     "data": {
      "text/plain": [
       "array([[23, 0, 0, 0, 25.355],\n",
       "       [47, 1, 1, 0, 13.093],\n",
       "       [47, 1, 1, 0, 10.114],\n",
       "       [28, 0, 2, 0, 7.798],\n",
       "       [61, 0, 1, 0, 18.043]], dtype=object)"
      ]
     },
     "execution_count": 7,
     "metadata": {},
     "output_type": "execute_result"
    }
   ],
   "source": [
    "from sklearn import preprocessing\n",
    "le_sex = preprocessing.LabelEncoder()\n",
    "le_sex.fit(['F','M'])\n",
    "X[:,1] = le_sex.transform(X[:,1]) \n",
    "\n",
    "\n",
    "le_BP = preprocessing.LabelEncoder()\n",
    "le_BP.fit([ 'LOW', 'NORMAL', 'HIGH'])\n",
    "X[:,2] = le_BP.transform(X[:,2])\n",
    "\n",
    "\n",
    "le_Chol = preprocessing.LabelEncoder()\n",
    "le_Chol.fit([ 'NORMAL', 'HIGH'])\n",
    "X[:,3] = le_Chol.transform(X[:,3]) \n",
    "\n",
    "X[0:5]"
   ]
  },
  {
   "cell_type": "markdown",
   "metadata": {},
   "source": [
    "Dữ liệu target về loại thuốc phản ứng"
   ]
  },
  {
   "cell_type": "code",
   "execution_count": 10,
   "metadata": {
    "button": false,
    "new_sheet": false,
    "run_control": {
     "read_only": false
    }
   },
   "outputs": [
    {
     "data": {
      "text/plain": [
       "0    drugY\n",
       "1    drugC\n",
       "2    drugC\n",
       "3    drugX\n",
       "4    drugY\n",
       "Name: Drug, dtype: object"
      ]
     },
     "execution_count": 10,
     "metadata": {},
     "output_type": "execute_result"
    }
   ],
   "source": [
    "y = my_data[\"Drug\"]\n",
    "y[0:5]"
   ]
  },
  {
   "cell_type": "markdown",
   "metadata": {
    "button": false,
    "new_sheet": false,
    "run_control": {
     "read_only": false
    }
   },
   "source": [
    "<hr>\n",
    "\n",
    "<div id=\"setting_up_tree\">\n",
    "    <h2>Cài đặt mô hình Random Forest</h2>\n",
    "    Chúng ta chia dữ liệu thành hai phần <b>train</b> và <b>test</b> để huấn luyện và đánh giá mô hình <b>Random Forest</b>. Import <b>train_test_split</b> từ <b>sklearn.cross_validation</b>.\n",
    "</div>"
   ]
  },
  {
   "cell_type": "code",
   "execution_count": 8,
   "metadata": {
    "button": false,
    "new_sheet": false,
    "run_control": {
     "read_only": false
    }
   },
   "outputs": [],
   "source": [
    "from sklearn.model_selection import train_test_split"
   ]
  },
  {
   "cell_type": "markdown",
   "metadata": {
    "button": false,
    "new_sheet": false,
    "run_control": {
     "read_only": false
    }
   },
   "source": [
    "Hàm <b> train_test_split </b> trả về 4 giá trị khác nhau. Chúng ta đặt tên như sau:<br>\n",
    "X_trainset, X_testset, y_trainset, y_testset <br> <br>\n",
    "Hàm <b> train_test_split </b> cần các tham số đầu vào: <br>\n",
    "X, y, test_size=0.3, and random_state=3. <br> <br>\n",
    "<b>X</b> and <b>y</b> là các ma trận và vector cần chia, <b>test_size</b> là tỉ lệ tập test,và <b>random_state</b> để loại bỏ tính ngẫu nhiên."
   ]
  },
  {
   "cell_type": "code",
   "execution_count": 11,
   "metadata": {
    "button": false,
    "new_sheet": false,
    "run_control": {
     "read_only": false
    }
   },
   "outputs": [],
   "source": [
    "X_trainset, X_testset, y_trainset, y_testset = train_test_split(X, y, test_size=0.3, random_state=3)"
   ]
  },
  {
   "cell_type": "markdown",
   "metadata": {
    "button": false,
    "new_sheet": false,
    "run_control": {
     "read_only": false
    }
   },
   "source": [
    "<h3>Thực hành</h3>\n",
    "Print kích thước X_trainset and y_trainset. Đảm bảo số chiều tương ứng với nhau"
   ]
  },
  {
   "cell_type": "code",
   "execution_count": 12,
   "metadata": {
    "button": false,
    "new_sheet": false,
    "run_control": {
     "read_only": false
    }
   },
   "outputs": [
    {
     "name": "stdout",
     "output_type": "stream",
     "text": [
      "[[26 0 0 1 19.161]\n",
      " [41 0 2 1 22.905]\n",
      " [28 0 2 0 19.675]\n",
      " [19 0 0 0 13.313]\n",
      " [50 1 2 1 15.79]\n",
      " [24 1 2 0 25.786]\n",
      " [72 1 1 0 16.31]\n",
      " [74 0 1 0 20.942]\n",
      " [37 0 1 1 12.006]\n",
      " [31 1 0 1 17.069]\n",
      " [22 0 2 0 8.607]\n",
      " [20 0 2 1 9.281]\n",
      " [28 0 1 0 13.127]\n",
      " [59 0 2 0 13.884]\n",
      " [15 1 0 1 17.206]\n",
      " [51 0 1 1 23.003]\n",
      " [45 1 1 1 10.017]\n",
      " [33 0 1 0 33.486]\n",
      " [39 1 0 0 9.664]\n",
      " [29 0 0 0 29.45]\n",
      " [60 1 2 0 15.171]\n",
      " [24 0 0 1 18.457]\n",
      " [49 0 2 1 9.381]\n",
      " [37 1 1 1 8.968]\n",
      " [32 0 0 1 10.292]\n",
      " [21 0 0 1 28.632]\n",
      " [23 1 2 0 12.26]\n",
      " [40 1 0 0 27.826]\n",
      " [38 1 1 0 18.295]\n",
      " [47 1 1 1 30.568]\n",
      " [22 0 0 1 22.818]\n",
      " [47 1 0 0 10.403]\n",
      " [30 0 2 0 10.443]\n",
      " [69 1 1 0 15.478]\n",
      " [42 0 0 0 21.036]\n",
      " [45 1 1 1 8.37]\n",
      " [49 1 0 1 6.269]\n",
      " [72 1 1 0 6.769]\n",
      " [74 1 1 1 11.939]\n",
      " [66 0 2 1 8.107]\n",
      " [46 1 2 1 7.285]\n",
      " [68 0 2 1 27.05]\n",
      " [58 0 0 0 19.416]\n",
      " [19 0 0 1 25.969]\n",
      " [20 1 0 1 35.639]\n",
      " [69 1 1 1 11.455]\n",
      " [32 0 0 1 25.974]\n",
      " [72 1 0 1 9.677]\n",
      " [50 0 2 1 12.295]\n",
      " [54 1 2 0 24.658]\n",
      " [36 0 0 0 11.198]\n",
      " [64 0 1 1 25.741]\n",
      " [35 1 1 1 9.17]\n",
      " [47 0 1 0 11.767]\n",
      " [47 0 1 0 10.067]\n",
      " [34 0 0 1 19.199]\n",
      " [26 0 1 0 14.16]\n",
      " [37 0 0 1 23.091]\n",
      " [48 1 0 1 10.446]\n",
      " [47 0 2 1 6.683]\n",
      " [55 0 0 0 10.977]\n",
      " [43 1 1 1 19.368]\n",
      " [35 0 0 0 12.894]\n",
      " [49 1 1 1 11.014]\n",
      " [45 1 1 0 17.951]\n",
      " [15 1 2 0 9.084]\n",
      " [57 0 2 1 25.893]\n",
      " [65 1 0 1 11.34]\n",
      " [70 1 0 0 9.849]\n",
      " [46 0 0 0 34.686]\n",
      " [41 1 0 1 15.156]\n",
      " [34 1 0 0 18.703]\n",
      " [42 1 0 1 12.766]\n",
      " [32 1 0 1 9.445]\n",
      " [25 1 2 0 19.011]\n",
      " [62 1 1 1 27.183]\n",
      " [23 1 0 0 8.011]\n",
      " [23 1 2 0 31.686]\n",
      " [58 0 1 0 38.247]\n",
      " [26 1 1 1 20.909]\n",
      " [68 1 0 0 11.009]\n",
      " [60 1 0 0 13.934]\n",
      " [15 0 0 1 16.725]\n",
      " [53 0 0 1 12.495]\n",
      " [37 1 1 1 16.724]\n",
      " [40 0 2 0 10.103]\n",
      " [59 1 0 0 13.935]\n",
      " [47 1 1 0 13.093]\n",
      " [65 0 1 1 13.769]\n",
      " [16 1 0 1 19.007]\n",
      " [67 1 2 1 9.514]\n",
      " [23 1 1 0 7.298]\n",
      " [56 0 1 0 11.567]\n",
      " [68 0 0 1 10.189]\n",
      " [65 1 0 1 34.997]\n",
      " [39 0 1 1 22.697]\n",
      " [35 1 2 1 7.845]\n",
      " [64 1 0 1 20.932]\n",
      " [28 0 1 0 19.796]\n",
      " [56 1 1 0 15.015]\n",
      " [57 1 1 1 19.128]\n",
      " [39 1 1 1 13.938]\n",
      " [32 0 1 1 10.84]\n",
      " [36 0 2 0 16.753]\n",
      " [65 0 0 1 31.876]\n",
      " [41 1 1 0 11.037]\n",
      " [67 1 1 1 20.693]\n",
      " [23 1 2 1 14.02]\n",
      " [40 0 1 1 11.349]\n",
      " [53 1 1 0 22.963]\n",
      " [56 0 0 0 25.395]\n",
      " [50 1 0 0 7.49]\n",
      " [22 1 0 1 28.294]\n",
      " [18 0 0 1 24.276]\n",
      " [62 1 2 0 16.594]\n",
      " [32 0 2 0 7.477]\n",
      " [38 0 1 1 29.875]\n",
      " [47 1 1 0 10.114]\n",
      " [29 1 0 0 12.856]\n",
      " [49 1 0 1 8.7]\n",
      " [64 1 2 0 7.761]\n",
      " [31 1 0 0 30.366]\n",
      " [60 1 0 1 8.621]\n",
      " [57 0 2 0 14.216]\n",
      " [42 0 1 1 29.271]\n",
      " [39 0 2 1 17.225]\n",
      " [61 0 1 1 7.34]\n",
      " [58 0 1 0 26.645]\n",
      " [61 0 0 0 25.475]\n",
      " [22 1 1 0 8.151]\n",
      " [51 1 0 1 11.343]\n",
      " [20 0 0 0 11.262]\n",
      " [42 1 1 0 20.013]\n",
      " [26 0 0 1 12.307]\n",
      " [63 1 2 0 25.917]\n",
      " [23 0 0 0 25.355]\n",
      " [18 0 0 0 37.188]\n",
      " [52 1 1 1 32.922]\n",
      " [55 1 2 1 7.261]\n",
      " [22 1 2 0 11.953]]\n"
     ]
    }
   ],
   "source": [
    "# your code\n",
    "print(X_trainset)\n"
   ]
  },
  {
   "cell_type": "markdown",
   "metadata": {
    "button": false,
    "new_sheet": false,
    "run_control": {
     "read_only": false
    }
   },
   "source": [
    "Print kích thước X_testset and y_testset. Đảm bảo số chiều tương ứng với nhau"
   ]
  },
  {
   "cell_type": "code",
   "execution_count": null,
   "metadata": {
    "button": false,
    "new_sheet": false,
    "run_control": {
     "read_only": false
    }
   },
   "outputs": [],
   "source": [
    "# your code\n",
    "\n"
   ]
  },
  {
   "cell_type": "markdown",
   "metadata": {
    "button": false,
    "new_sheet": false,
    "run_control": {
     "read_only": false
    }
   },
   "source": [
    "<hr>\n",
    "\n",
    "<div id=\"modeling\">\n",
    "    <h2>Huấn luyện</h2>\n",
    "    Trước tiên chúng ta cần tạo một đối tượng <b>RandomForestClassifier</b> tên <b>drugTree</b>.<br>\n",
    "    Khi khởi tạo cần chỉ rõ số cây tương ứng\n",
    "</div>"
   ]
  },
  {
   "cell_type": "code",
   "execution_count": null,
   "metadata": {
    "button": false,
    "new_sheet": false,
    "run_control": {
     "read_only": false
    }
   },
   "outputs": [],
   "source": [
    "drugTree = RandomForestClassifier(n_estimators=100)\n",
    "drugTree"
   ]
  },
  {
   "cell_type": "markdown",
   "metadata": {
    "button": false,
    "new_sheet": false,
    "run_control": {
     "read_only": false
    }
   },
   "source": [
    "Huấn luyện mô hình trên tập <b> X_trainset </b> và vector nhãn tương ứng <b> y_trainset </b>"
   ]
  },
  {
   "cell_type": "code",
   "execution_count": null,
   "metadata": {
    "button": false,
    "new_sheet": false,
    "run_control": {
     "read_only": false
    }
   },
   "outputs": [],
   "source": [
    "drugTree.fit(X_trainset,y_trainset)"
   ]
  },
  {
   "cell_type": "markdown",
   "metadata": {
    "button": false,
    "new_sheet": false,
    "run_control": {
     "read_only": false
    }
   },
   "source": [
    "<hr>\n",
    "\n",
    "<div id=\"prediction\">\n",
    "    <h2>Dự đoán</h2>\n",
    "    Thực hiện các <b>dự đoán</b> trên tập dữ liệu test và lưu kết quả vào biến <b>predTree</b>.\n",
    "</div>"
   ]
  },
  {
   "cell_type": "code",
   "execution_count": null,
   "metadata": {
    "button": false,
    "new_sheet": false,
    "run_control": {
     "read_only": false
    }
   },
   "outputs": [],
   "source": [
    "predTree = drugTree.predict(X_testset)"
   ]
  },
  {
   "cell_type": "markdown",
   "metadata": {
    "button": false,
    "new_sheet": false,
    "run_control": {
     "read_only": false
    }
   },
   "source": [
    "So sánh kết quả dữ đoán <b>predTree</b> và nhãn thật tương ứng <b>y_testset</b>"
   ]
  },
  {
   "cell_type": "code",
   "execution_count": null,
   "metadata": {
    "button": false,
    "new_sheet": false,
    "run_control": {
     "read_only": false
    },
    "scrolled": true
   },
   "outputs": [],
   "source": [
    "print('Nhãn phán đoán')\n",
    "print (predTree [0:5])\n",
    "print('Nhãn đúng')\n",
    "print(list(y_testset)[0:5])"
   ]
  },
  {
   "cell_type": "markdown",
   "metadata": {
    "button": false,
    "new_sheet": false,
    "run_control": {
     "read_only": false
    }
   },
   "source": [
    "<hr>\n",
    "\n",
    "<div id=\"evaluation\">\n",
    "    <h2>Đánh giá thử mô hình</h2>\n",
    "    Import <b>metrics</b> từ sklearn and kiểm tra độ chính xác của mô hình trên tập test\n",
    "</div>"
   ]
  },
  {
   "cell_type": "code",
   "execution_count": null,
   "metadata": {
    "button": false,
    "new_sheet": false,
    "run_control": {
     "read_only": false
    }
   },
   "outputs": [],
   "source": [
    "from sklearn import metrics\n",
    "import matplotlib.pyplot as plt\n",
    "print(\"DecisionTrees's Accuracy: \", metrics.accuracy_score(y_testset, predTree))"
   ]
  },
  {
   "cell_type": "markdown",
   "metadata": {},
   "source": [
    "<hr>\n",
    "\n",
    "<div id=\"evaluation\">\n",
    "    <h2>Đánh giá ảnh hưởng của các thuộc tính với nhãn</h2>\n",
    "        Đánh giá độ ảnh hưởng của thuộc tính với nhãn là một kỹ thuật để gán điểm số cho các thuộc tính đầu vào của mô hình nhằm cho biết tầm quan trọng của thuộc tính đó khi đưa ra dự đoán.\n",
    "    <br>\n",
    "    <br>\n",
    "    Các điểm số có thể được sử dụng để:\n",
    "    <ul>\n",
    "    <li> Hiểu về dữ liệu\n",
    "    <li> Hiểu về dữ liệu\n",
    "    <li> Giảm số chiều của dữ liệu bằng việc loại đi các thuộc tính không quan trọng </li>\n",
    "</ul>\n",
    "</div>\n"
   ]
  },
  {
   "cell_type": "code",
   "execution_count": null,
   "metadata": {},
   "outputs": [],
   "source": [
    "print(list(my_data.columns)[0:-1])\n",
    "print(list(drugTree.feature_importances_))"
   ]
  },
  {
   "cell_type": "code",
   "execution_count": null,
   "metadata": {},
   "outputs": [],
   "source": []
  }
 ],
 "metadata": {
  "anaconda-cloud": {},
  "kernelspec": {
   "display_name": "Python 3 (ipykernel)",
   "language": "python",
   "name": "python3"
  },
  "language_info": {
   "codemirror_mode": {
    "name": "ipython",
    "version": 3
   },
   "file_extension": ".py",
   "mimetype": "text/x-python",
   "name": "python",
   "nbconvert_exporter": "python",
   "pygments_lexer": "ipython3",
   "version": "3.12.2"
  },
  "widgets": {
   "state": {},
   "version": "1.1.2"
  }
 },
 "nbformat": 4,
 "nbformat_minor": 4
}
