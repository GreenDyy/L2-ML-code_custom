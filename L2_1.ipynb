{
 "cells": [
  {
   "cell_type": "code",
   "execution_count": 1,
   "id": "658547a5-3b9a-480a-aff9-53e25e99b2e6",
   "metadata": {},
   "outputs": [
    {
     "name": "stdout",
     "output_type": "stream",
     "text": [
      "(200, 6)\n",
      "--------------Dữ liệu ban đầu-----------------\n",
      "   Age Sex      BP Cholesterol  Na_to_K   Drug\n",
      "0   23   F    HIGH        HIGH   25.355  drugY\n",
      "1   47   M     LOW        HIGH   13.093  drugC\n",
      "2   47   M     LOW        HIGH   10.114  drugC\n",
      "3   28   F  NORMAL        HIGH    7.798  drugX\n",
      "4   61   F     LOW        HIGH   18.043  drugY\n",
      "--------------Dữ liệu đầu vào sau khi được số hoá-----------------\n",
      "[[23 0 0 0 25.355]\n",
      " [47 1 1 0 13.093]\n",
      " [47 1 1 0 10.114]\n",
      " [28 0 2 0 7.798]\n",
      " [61 0 1 0 18.043]]\n",
      "--------------X sau khi cột Na_to_K được chuẩn hoá-----------------\n",
      "[[23 0 0 0 1.2865221173753503]\n",
      " [47 1 1 0 -0.4151453955143358]\n",
      " [47 1 1 0 -0.8285581765368749]\n",
      " [28 0 2 0 -1.1499626749753444]]\n",
      "--------------Cột drug ban đầu-----------------\n",
      "0    drugY\n",
      "1    drugC\n",
      "2    drugC\n",
      "3    drugX\n",
      "4    drugY\n",
      "Name: Drug, dtype: object\n",
      "--------------Cột drug sau khi chuẩn hoá-----------------\n",
      "[4 2 2 3 4]\n"
     ]
    }
   ],
   "source": [
    "import numpy as np\n",
    "import pandas as pd\n",
    "from sklearn import preprocessing\n",
    "\n",
    "my_data = pd.read_csv(\"data/drug200.csv\", delimiter=\",\")\n",
    "\n",
    "# Xem thông tin và kích thước của dữ liệu\n",
    "print(my_data.shape)\n",
    "print(\"--------------Dữ liệu ban đầu-----------------\")\n",
    "print(my_data[0:5]) #lấy 5 dòng đầu\n",
    "\n",
    "# Chuẩn bị dữ liệu đầu vào (X) và đầu ra (y) || Dưới quá quá trình chuyển đổi dữ liệu thành số\n",
    "X = my_data[['Age', 'Sex', 'BP', 'Cholesterol', 'Na_to_K']].values\n",
    "\n",
    "le_sex = preprocessing.LabelEncoder()\n",
    "le_sex.fit(['F','M'])\n",
    "X[:,1] = le_sex.transform(X[:,1]) \n",
    "\n",
    "le_BP = preprocessing.LabelEncoder() #Blood Pressure huyết áp\n",
    "le_BP.fit([ 'LOW', 'NORMAL', 'HIGH'])\n",
    "X[:,2] = le_BP.transform(X[:,2])\n",
    "\n",
    "le_Chol = preprocessing.LabelEncoder()\n",
    "le_Chol.fit([ 'NORMAL', 'HIGH'])\n",
    "X[:,3] = le_Chol.transform(X[:,3])\n",
    "\n",
    "print(\"--------------Dữ liệu đầu vào sau khi được số hoá-----------------\")\n",
    "print(X[0:5])\n",
    "\n",
    "\n",
    "\n",
    "mean = X[:, -1].mean() #Tính giá trị trung bình của cột'Na_to_K'\n",
    "std = X[:, -1].std() #Tính độ lệch chuẩn cột 'Na_to_K'\n",
    "X[:, -1] = (X[:, -1] - mean) / std #Chuẩn hóa cột này bằng cách trừ đi giá trị trung bình và chia cho độ lệch chuẩn.\n",
    "print(\"--------------X sau khi cột Na_to_K được chuẩn hoá-----------------\")\n",
    "print(X[0:5])\n",
    "\n",
    "print(\"--------------Cột drug ban đầu-----------------\")\n",
    "y = my_data[\"Drug\"]\n",
    "print(y[0:5])\n",
    "\n",
    "le_drug = preprocessing.LabelEncoder()\n",
    "le_drug.fit(['drugA','drugB', 'drugC', 'drugX', 'drugY'])\n",
    "y = le_drug.transform(y)\n",
    "print(\"--------------Cột drug sau khi chuẩn hoá-----------------\")\n",
    "print(y[0:5])\n"
   ]
  },
  {
   "cell_type": "code",
   "execution_count": null,
   "id": "1a414dd6-fba9-4f57-88ae-0e97daa4c948",
   "metadata": {},
   "outputs": [],
   "source": []
  }
 ],
 "metadata": {
  "kernelspec": {
   "display_name": "Python 3 (ipykernel)",
   "language": "python",
   "name": "python3"
  },
  "language_info": {
   "codemirror_mode": {
    "name": "ipython",
    "version": 3
   },
   "file_extension": ".py",
   "mimetype": "text/x-python",
   "name": "python",
   "nbconvert_exporter": "python",
   "pygments_lexer": "ipython3",
   "version": "3.12.2"
  }
 },
 "nbformat": 4,
 "nbformat_minor": 5
}
